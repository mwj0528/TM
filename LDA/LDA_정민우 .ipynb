{
 "cells": [
  {
   "cell_type": "code",
   "execution_count": null,
   "id": "2ce28110-30d7-42b9-8162-1f135f758c16",
   "metadata": {},
   "outputs": [],
   "source": [
    "# !pip install lda,pandas,nltk,gensim,numpy"
   ]
  },
  {
   "cell_type": "code",
   "execution_count": 1,
   "id": "ec5eae53-8e1e-44aa-831b-a4e7ec3434c2",
   "metadata": {},
   "outputs": [],
   "source": [
    "import pandas as pd\n",
    "from sklearn.feature_extraction.text import CountVectorizer\n",
    "from nltk.corpus import stopwords\n",
    "from nltk.tokenize import word_tokenize\n",
    "from gensim import corpora, models, matutils\n",
    "import nltk\n",
    "import numpy as np"
   ]
  },
  {
   "cell_type": "code",
   "execution_count": 2,
   "id": "2701cfa5-c47f-49e9-b13f-e6f51855e319",
   "metadata": {},
   "outputs": [
    {
     "name": "stderr",
     "output_type": "stream",
     "text": [
      "[nltk_data] Downloading package stopwords to\n",
      "[nltk_data]     C:\\Users\\Administrator\\AppData\\Roaming\\nltk_data...\n",
      "[nltk_data]   Package stopwords is already up-to-date!\n",
      "[nltk_data] Downloading package punkt to\n",
      "[nltk_data]     C:\\Users\\Administrator\\AppData\\Roaming\\nltk_data...\n",
      "[nltk_data]   Package punkt is already up-to-date!\n"
     ]
    },
    {
     "data": {
      "text/plain": [
       "True"
      ]
     },
     "execution_count": 2,
     "metadata": {},
     "output_type": "execute_result"
    }
   ],
   "source": [
    "np.random.seed(42) # Random하게 나오는 LDA 결과 고정\n",
    "nltk.download('stopwords')\n",
    "nltk.download('punkt')"
   ]
  },
  {
   "cell_type": "code",
   "execution_count": 4,
   "id": "1538a3af-7a98-47c2-9ba2-132bb2296314",
   "metadata": {},
   "outputs": [],
   "source": [
    "data = pd.read_csv(\"data.csv\", header=0)"
   ]
  },
  {
   "cell_type": "code",
   "execution_count": 15,
   "id": "db64ae92",
   "metadata": {},
   "outputs": [
    {
     "data": {
      "text/html": [
       "<div>\n",
       "<style scoped>\n",
       "    .dataframe tbody tr th:only-of-type {\n",
       "        vertical-align: middle;\n",
       "    }\n",
       "\n",
       "    .dataframe tbody tr th {\n",
       "        vertical-align: top;\n",
       "    }\n",
       "\n",
       "    .dataframe thead th {\n",
       "        text-align: right;\n",
       "    }\n",
       "</style>\n",
       "<table border=\"1\" class=\"dataframe\">\n",
       "  <thead>\n",
       "    <tr style=\"text-align: right;\">\n",
       "      <th></th>\n",
       "      <th>번호</th>\n",
       "      <th>전체 청구항</th>\n",
       "    </tr>\n",
       "  </thead>\n",
       "  <tbody>\n",
       "    <tr>\n",
       "      <th>0</th>\n",
       "      <td>US9276168</td>\n",
       "      <td>1. A component comprising a substrate comprisi...</td>\n",
       "    </tr>\n",
       "    <tr>\n",
       "      <th>1</th>\n",
       "      <td>US9276048</td>\n",
       "      <td>1. A method of detecting infrared (IR), compri...</td>\n",
       "    </tr>\n",
       "    <tr>\n",
       "      <th>2</th>\n",
       "      <td>US9274264</td>\n",
       "      <td>1. A light source module, comprising:a light g...</td>\n",
       "    </tr>\n",
       "    <tr>\n",
       "      <th>3</th>\n",
       "      <td>US9273851</td>\n",
       "      <td>1. A backlight module, which comprises:a diffu...</td>\n",
       "    </tr>\n",
       "    <tr>\n",
       "      <th>4</th>\n",
       "      <td>US9260655</td>\n",
       "      <td>1. A composition comprising:(a) a quantum dot ...</td>\n",
       "    </tr>\n",
       "  </tbody>\n",
       "</table>\n",
       "</div>"
      ],
      "text/plain": [
       "          번호                                             전체 청구항\n",
       "0  US9276168  1. A component comprising a substrate comprisi...\n",
       "1  US9276048  1. A method of detecting infrared (IR), compri...\n",
       "2  US9274264  1. A light source module, comprising:a light g...\n",
       "3  US9273851  1. A backlight module, which comprises:a diffu...\n",
       "4  US9260655  1. A composition comprising:(a) a quantum dot ..."
      ]
     },
     "execution_count": 15,
     "metadata": {},
     "output_type": "execute_result"
    }
   ],
   "source": [
    "data.head()"
   ]
  },
  {
   "cell_type": "code",
   "execution_count": 5,
   "id": "231f144c-e0fd-4dea-9685-fee713e0f649",
   "metadata": {},
   "outputs": [],
   "source": [
    "# 말뭉치 생성\n",
    "corpus = data['전체 청구항'].tolist()"
   ]
  },
  {
   "cell_type": "code",
   "execution_count": 6,
   "id": "2e4b6c7f-3b69-4734-ba8f-371f94f631d4",
   "metadata": {},
   "outputs": [],
   "source": [
    "# 불용어 제거, 한 글자 단어 제거\n",
    "stop_words = set(stopwords.words('english'))\n",
    "corpus = [' '.join([word for word in word_tokenize(sentence.lower()) if len(word) > 1 and word.isalpha() and word not in stop_words]) for sentence in corpus]"
   ]
  },
  {
   "cell_type": "code",
   "execution_count": 7,
   "id": "1892a65b-e8ed-4165-815f-96ab7bb381ae",
   "metadata": {},
   "outputs": [],
   "source": [
    "# Term-Doc Matrix 생성\n",
    "vectorizer = CountVectorizer(max_features=1000)\n",
    "dtm = vectorizer.fit_transform(corpus)"
   ]
  },
  {
   "cell_type": "code",
   "execution_count": 8,
   "id": "cb67bd8f-f78c-43b2-bcee-4fde48fa1c28",
   "metadata": {},
   "outputs": [],
   "source": [
    "# DTM을 Corpus형식으로 변환\n",
    "corpus_gensim = matutils.Sparse2Corpus(dtm.transpose())"
   ]
  },
  {
   "cell_type": "code",
   "execution_count": 9,
   "id": "f113100e-f833-4071-84f6-61863a9fddf0",
   "metadata": {},
   "outputs": [],
   "source": [
    "num_topics = 50  # 주제의 수 설정\n",
    "num_iterations = 500  # 반복 횟수 설정\n",
    "burnin = 100  # burn-in 기간 설정\n",
    "alpha = 0.01  # alpha 설정\n",
    "eta = 0.01  # eta 설정"
   ]
  },
  {
   "cell_type": "code",
   "execution_count": 10,
   "id": "76f5716d-66e0-42f5-84d1-f87a92794715",
   "metadata": {},
   "outputs": [],
   "source": [
    "# LDA Model 생성\n",
    "lda_model = models.LdaModel(corpus_gensim, num_topics=num_topics, iterations=num_iterations, alpha=alpha, eta=eta, id2word=dict(enumerate(vectorizer.get_feature_names_out())))"
   ]
  },
  {
   "cell_type": "code",
   "execution_count": 11,
   "id": "91ef29f9-d4fe-427f-b0db-45373834195d",
   "metadata": {},
   "outputs": [],
   "source": [
    "# 결과\n",
    "topic_keywords = []\n",
    "\n",
    "for topic_idx in range(num_topics):\n",
    "    top_keywords = lda_model.show_topic(topic_idx, topn=len(vectorizer.get_feature_names_out()))\n",
    "    keywords = [word for word, _ in sorted(top_keywords, key=lambda x: x[1], reverse=True)]  # Sorting in descending order\n",
    "    topic_keywords.append(keywords)"
   ]
  },
  {
   "cell_type": "code",
   "execution_count": 12,
   "id": "10f6168d-7ee6-419c-868a-031251a46f2a",
   "metadata": {},
   "outputs": [],
   "source": [
    "# 결과를 DataFrame으로 저장\n",
    "topic_word = pd.DataFrame(topic_keywords).T\n",
    "topic_word.columns = [f'Topic {i + 1}' for i in range(num_topics)]"
   ]
  },
  {
   "cell_type": "code",
   "execution_count": 14,
   "id": "9d047159",
   "metadata": {},
   "outputs": [
    {
     "data": {
      "text/html": [
       "<div>\n",
       "<style scoped>\n",
       "    .dataframe tbody tr th:only-of-type {\n",
       "        vertical-align: middle;\n",
       "    }\n",
       "\n",
       "    .dataframe tbody tr th {\n",
       "        vertical-align: top;\n",
       "    }\n",
       "\n",
       "    .dataframe thead th {\n",
       "        text-align: right;\n",
       "    }\n",
       "</style>\n",
       "<table border=\"1\" class=\"dataframe\">\n",
       "  <thead>\n",
       "    <tr style=\"text-align: right;\">\n",
       "      <th></th>\n",
       "      <th>Topic 1</th>\n",
       "      <th>Topic 2</th>\n",
       "      <th>Topic 3</th>\n",
       "      <th>Topic 4</th>\n",
       "      <th>Topic 5</th>\n",
       "      <th>Topic 6</th>\n",
       "      <th>Topic 7</th>\n",
       "      <th>Topic 8</th>\n",
       "      <th>Topic 9</th>\n",
       "      <th>Topic 10</th>\n",
       "      <th>...</th>\n",
       "      <th>Topic 41</th>\n",
       "      <th>Topic 42</th>\n",
       "      <th>Topic 43</th>\n",
       "      <th>Topic 44</th>\n",
       "      <th>Topic 45</th>\n",
       "      <th>Topic 46</th>\n",
       "      <th>Topic 47</th>\n",
       "      <th>Topic 48</th>\n",
       "      <th>Topic 49</th>\n",
       "      <th>Topic 50</th>\n",
       "    </tr>\n",
       "  </thead>\n",
       "  <tbody>\n",
       "    <tr>\n",
       "      <th>0</th>\n",
       "      <td>wherein</td>\n",
       "      <td>layer</td>\n",
       "      <td>light</td>\n",
       "      <td>group</td>\n",
       "      <td>particle</td>\n",
       "      <td>wherein</td>\n",
       "      <td>said</td>\n",
       "      <td>claim</td>\n",
       "      <td>light</td>\n",
       "      <td>layer</td>\n",
       "      <td>...</td>\n",
       "      <td>said</td>\n",
       "      <td>data</td>\n",
       "      <td>layer</td>\n",
       "      <td>claim</td>\n",
       "      <td>claim</td>\n",
       "      <td>second</td>\n",
       "      <td>claim</td>\n",
       "      <td>wherein</td>\n",
       "      <td>tunneling</td>\n",
       "      <td>metal</td>\n",
       "    </tr>\n",
       "    <tr>\n",
       "      <th>1</th>\n",
       "      <td>group</td>\n",
       "      <td>said</td>\n",
       "      <td>wherein</td>\n",
       "      <td>quantum</td>\n",
       "      <td>light</td>\n",
       "      <td>layer</td>\n",
       "      <td>light</td>\n",
       "      <td>wherein</td>\n",
       "      <td>first</td>\n",
       "      <td>light</td>\n",
       "      <td>...</td>\n",
       "      <td>semiconductor</td>\n",
       "      <td>processing</td>\n",
       "      <td>wherein</td>\n",
       "      <td>wherein</td>\n",
       "      <td>wherein</td>\n",
       "      <td>first</td>\n",
       "      <td>wherein</td>\n",
       "      <td>claim</td>\n",
       "      <td>method</td>\n",
       "      <td>claimed</td>\n",
       "    </tr>\n",
       "    <tr>\n",
       "      <th>2</th>\n",
       "      <td>claim</td>\n",
       "      <td>step</td>\n",
       "      <td>layer</td>\n",
       "      <td>compound</td>\n",
       "      <td>first</td>\n",
       "      <td>claim</td>\n",
       "      <td>claim</td>\n",
       "      <td>light</td>\n",
       "      <td>wherein</td>\n",
       "      <td>claim</td>\n",
       "      <td>...</td>\n",
       "      <td>quantum</td>\n",
       "      <td>first</td>\n",
       "      <td>claim</td>\n",
       "      <td>said</td>\n",
       "      <td>layer</td>\n",
       "      <td>material</td>\n",
       "      <td>said</td>\n",
       "      <td>method</td>\n",
       "      <td>producing</td>\n",
       "      <td>method</td>\n",
       "    </tr>\n",
       "    <tr>\n",
       "      <th>3</th>\n",
       "      <td>nanoparticle</td>\n",
       "      <td>semiconductor</td>\n",
       "      <td>claim</td>\n",
       "      <td>dots</td>\n",
       "      <td>second</td>\n",
       "      <td>first</td>\n",
       "      <td>wherein</td>\n",
       "      <td>first</td>\n",
       "      <td>second</td>\n",
       "      <td>quantum</td>\n",
       "      <td>...</td>\n",
       "      <td>layer</td>\n",
       "      <td>wherein</td>\n",
       "      <td>method</td>\n",
       "      <td>one</td>\n",
       "      <td>cell</td>\n",
       "      <td>light</td>\n",
       "      <td>method</td>\n",
       "      <td>light</td>\n",
       "      <td>vertical</td>\n",
       "      <td>claim</td>\n",
       "    </tr>\n",
       "    <tr>\n",
       "      <th>4</th>\n",
       "      <td>comprises</td>\n",
       "      <td>film</td>\n",
       "      <td>emitting</td>\n",
       "      <td>mixture</td>\n",
       "      <td>claim</td>\n",
       "      <td>second</td>\n",
       "      <td>method</td>\n",
       "      <td>system</td>\n",
       "      <td>claim</td>\n",
       "      <td>wherein</td>\n",
       "      <td>...</td>\n",
       "      <td>claim</td>\n",
       "      <td>second</td>\n",
       "      <td>electrode</td>\n",
       "      <td>light</td>\n",
       "      <td>solar</td>\n",
       "      <td>claim</td>\n",
       "      <td>layer</td>\n",
       "      <td>said</td>\n",
       "      <td>transistor</td>\n",
       "      <td>solution</td>\n",
       "    </tr>\n",
       "  </tbody>\n",
       "</table>\n",
       "<p>5 rows × 50 columns</p>\n",
       "</div>"
      ],
      "text/plain": [
       "        Topic 1        Topic 2   Topic 3   Topic 4   Topic 5  Topic 6  \\\n",
       "0       wherein          layer     light     group  particle  wherein   \n",
       "1         group           said   wherein   quantum     light    layer   \n",
       "2         claim           step     layer  compound     first    claim   \n",
       "3  nanoparticle  semiconductor     claim      dots    second    first   \n",
       "4     comprises           film  emitting   mixture     claim   second   \n",
       "\n",
       "   Topic 7  Topic 8  Topic 9 Topic 10  ...       Topic 41    Topic 42  \\\n",
       "0     said    claim    light    layer  ...           said        data   \n",
       "1    light  wherein    first    light  ...  semiconductor  processing   \n",
       "2    claim    light  wherein    claim  ...        quantum       first   \n",
       "3  wherein    first   second  quantum  ...          layer     wherein   \n",
       "4   method   system    claim  wherein  ...          claim      second   \n",
       "\n",
       "    Topic 43 Topic 44 Topic 45  Topic 46 Topic 47 Topic 48    Topic 49  \\\n",
       "0      layer    claim    claim    second    claim  wherein   tunneling   \n",
       "1    wherein  wherein  wherein     first  wherein    claim      method   \n",
       "2      claim     said    layer  material     said   method   producing   \n",
       "3     method      one     cell     light   method    light    vertical   \n",
       "4  electrode    light    solar     claim    layer     said  transistor   \n",
       "\n",
       "   Topic 50  \n",
       "0     metal  \n",
       "1   claimed  \n",
       "2    method  \n",
       "3     claim  \n",
       "4  solution  \n",
       "\n",
       "[5 rows x 50 columns]"
      ]
     },
     "execution_count": 14,
     "metadata": {},
     "output_type": "execute_result"
    }
   ],
   "source": [
    "topic_word.head()"
   ]
  },
  {
   "cell_type": "code",
   "execution_count": 13,
   "id": "ce5d6760-07ec-43bd-a732-231fa20e4094",
   "metadata": {},
   "outputs": [],
   "source": [
    "# 결과를 CSV 파일로 저장\n",
    "topic_word.to_csv('Topic word.csv', index=False)"
   ]
  }
 ],
 "metadata": {
  "kernelspec": {
   "display_name": "Python 3 (ipykernel)",
   "language": "python",
   "name": "python3"
  },
  "language_info": {
   "codemirror_mode": {
    "name": "ipython",
    "version": 3
   },
   "file_extension": ".py",
   "mimetype": "text/x-python",
   "name": "python",
   "nbconvert_exporter": "python",
   "pygments_lexer": "ipython3",
   "version": "3.11.5"
  }
 },
 "nbformat": 4,
 "nbformat_minor": 5
}
